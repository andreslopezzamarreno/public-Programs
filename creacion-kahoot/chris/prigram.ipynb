{
 "cells": [
  {
   "cell_type": "code",
   "execution_count": 8,
   "metadata": {},
   "outputs": [
    {
     "name": "stderr",
     "output_type": "stream",
     "text": [
      "C:\\Users\\lopez\\AppData\\Local\\Temp\\ipykernel_13240\\290831912.py:28: SettingWithCopyWarning: \n",
      "A value is trying to be set on a copy of a slice from a DataFrame\n",
      "\n",
      "See the caveats in the documentation: https://pandas.pydata.org/pandas-docs/stable/user_guide/indexing.html#returning-a-view-versus-a-copy\n",
      "  datos_seleccionados.rename(columns=nombres_columnas, inplace=True)\n"
     ]
    }
   ],
   "source": [
    "import pandas as pd\n",
    "\n",
    "# Especifica la ruta de tu archivo Excel\n",
    "archivo_excel = 'Service_questions_pygame.xlsx'\n",
    "\n",
    "# Lee el archivo Excel\n",
    "datos_excel = pd.read_excel(archivo_excel)\n",
    "\n",
    "# Selecciona las columnas que deseas mantener\n",
    "columnas_seleccionadas = [\"Question_text\", \"Answer_choice1\", \"Answer_choice2\", \"Answer_choice3\", \"Answer_choice4\", \"Correct answer\"]\n",
    "\n",
    "# Crea un nuevo DataFrame con las columnas seleccionadas\n",
    "datos_seleccionados = datos_excel[columnas_seleccionadas]\n",
    "\n",
    "# Agrega la nueva columna \"Tiempo\" con todos los valores establecidos en 20\n",
    "datos_seleccionados.insert(loc=5, column=\"Tiempo\", value=20)\n",
    "\n",
    "# Renombra las columnas\n",
    "nombres_columnas = {\n",
    "    \"Question_text\": \"Question\",\n",
    "    \"Answer_choice1\": \"Answer 1\",\n",
    "    \"Answer_choice2\": \"Answer 2\",\n",
    "    \"Answer_choice3\": \"Answer 3\",\n",
    "    \"Answer_choice4\": \"Answer 4\",\n",
    "    \"Correct answer\": \"Correct Answers\"\n",
    "}\n",
    "\n",
    "datos_seleccionados.rename(columns=nombres_columnas, inplace=True)\n",
    "\n",
    "# Selecciona las primeras 100 filas\n",
    "primeras_100_filas = datos_seleccionados.iloc[:100]\n",
    "\n",
    "# Selecciona las filas restantes (a partir de la fila 101)\n",
    "resto_filas = datos_seleccionados.iloc[100:]\n",
    "\n",
    "# Guarda las primeras 100 filas en un nuevo archivo Excel\n",
    "primeras_100_filas.to_excel('primeras_100_filas.xlsx', index=False)\n",
    "\n",
    "# Guarda las filas restantes en otro archivo Excel\n",
    "resto_filas.to_excel('resto_filas.xlsx', index=False)"
   ]
  }
 ],
 "metadata": {
  "kernelspec": {
   "display_name": "base",
   "language": "python",
   "name": "python3"
  },
  "language_info": {
   "codemirror_mode": {
    "name": "ipython",
    "version": 3
   },
   "file_extension": ".py",
   "mimetype": "text/x-python",
   "name": "python",
   "nbconvert_exporter": "python",
   "pygments_lexer": "ipython3",
   "version": "3.11.5"
  }
 },
 "nbformat": 4,
 "nbformat_minor": 2
}
